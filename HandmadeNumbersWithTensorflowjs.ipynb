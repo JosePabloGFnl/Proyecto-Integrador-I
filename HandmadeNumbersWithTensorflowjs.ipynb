{
  "nbformat": 4,
  "nbformat_minor": 0,
  "metadata": {
    "colab": {
      "name": "HandmadeNumbersWithTensorflowjs.ipynb",
      "provenance": []
    },
    "kernelspec": {
      "name": "python3",
      "display_name": "Python 3"
    },
    "language_info": {
      "name": "python"
    },
    "accelerator": "GPU"
  },
  "cells": [
    {
      "cell_type": "code",
      "source": [
        "pip install tensorflowjs"
      ],
      "metadata": {
        "id": "VnJPYtY16NQM",
        "outputId": "389ac5e5-5175-41f1-ac68-015f78ccb364",
        "colab": {
          "base_uri": "https://localhost:8080/"
        }
      },
      "execution_count": 1,
      "outputs": [
        {
          "output_type": "stream",
          "name": "stdout",
          "text": [
            "Looking in indexes: https://pypi.org/simple, https://us-python.pkg.dev/colab-wheels/public/simple/\n",
            "Requirement already satisfied: tensorflowjs in /usr/local/lib/python3.7/dist-packages (3.21.0)\n",
            "Requirement already satisfied: flax>=0.5.3 in /usr/local/lib/python3.7/dist-packages (from tensorflowjs) (0.6.1)\n",
            "Requirement already satisfied: tensorflow<3,>=2.1.0 in /usr/local/lib/python3.7/dist-packages (from tensorflowjs) (2.8.2+zzzcolab20220929150707)\n",
            "Requirement already satisfied: protobuf<3.20,>=3.9.2 in /usr/local/lib/python3.7/dist-packages (from tensorflowjs) (3.17.3)\n",
            "Requirement already satisfied: tensorflow-hub<0.13,>=0.7.0 in /usr/local/lib/python3.7/dist-packages (from tensorflowjs) (0.12.0)\n",
            "Requirement already satisfied: jax>=0.3.16 in /usr/local/lib/python3.7/dist-packages (from tensorflowjs) (0.3.21)\n",
            "Requirement already satisfied: six<2,>=1.12.0 in /usr/local/lib/python3.7/dist-packages (from tensorflowjs) (1.15.0)\n",
            "Requirement already satisfied: packaging~=20.9 in /usr/local/lib/python3.7/dist-packages (from tensorflowjs) (20.9)\n",
            "Requirement already satisfied: importlib_resources>=5.9.0 in /usr/local/lib/python3.7/dist-packages (from tensorflowjs) (5.9.0)\n",
            "Requirement already satisfied: optax in /usr/local/lib/python3.7/dist-packages (from flax>=0.5.3->tensorflowjs) (0.1.3)\n",
            "Requirement already satisfied: numpy>=1.12 in /usr/local/lib/python3.7/dist-packages (from flax>=0.5.3->tensorflowjs) (1.21.6)\n",
            "Requirement already satisfied: rich>=11.1 in /usr/local/lib/python3.7/dist-packages (from flax>=0.5.3->tensorflowjs) (12.6.0)\n",
            "Requirement already satisfied: typing-extensions>=4.1.1 in /usr/local/lib/python3.7/dist-packages (from flax>=0.5.3->tensorflowjs) (4.1.1)\n",
            "Requirement already satisfied: matplotlib in /usr/local/lib/python3.7/dist-packages (from flax>=0.5.3->tensorflowjs) (3.2.2)\n",
            "Requirement already satisfied: msgpack in /usr/local/lib/python3.7/dist-packages (from flax>=0.5.3->tensorflowjs) (1.0.4)\n",
            "Requirement already satisfied: PyYAML>=5.4.1 in /usr/local/lib/python3.7/dist-packages (from flax>=0.5.3->tensorflowjs) (6.0)\n",
            "Requirement already satisfied: zipp>=3.1.0 in /usr/local/lib/python3.7/dist-packages (from importlib_resources>=5.9.0->tensorflowjs) (3.8.1)\n",
            "Requirement already satisfied: etils[epath] in /usr/local/lib/python3.7/dist-packages (from jax>=0.3.16->tensorflowjs) (0.8.0)\n",
            "Requirement already satisfied: opt-einsum in /usr/local/lib/python3.7/dist-packages (from jax>=0.3.16->tensorflowjs) (3.3.0)\n",
            "Requirement already satisfied: absl-py in /usr/local/lib/python3.7/dist-packages (from jax>=0.3.16->tensorflowjs) (1.2.0)\n",
            "Requirement already satisfied: scipy>=1.5 in /usr/local/lib/python3.7/dist-packages (from jax>=0.3.16->tensorflowjs) (1.7.3)\n",
            "Requirement already satisfied: pyparsing>=2.0.2 in /usr/local/lib/python3.7/dist-packages (from packaging~=20.9->tensorflowjs) (3.0.9)\n",
            "Requirement already satisfied: pygments<3.0.0,>=2.6.0 in /usr/local/lib/python3.7/dist-packages (from rich>=11.1->flax>=0.5.3->tensorflowjs) (2.6.1)\n",
            "Requirement already satisfied: commonmark<0.10.0,>=0.9.0 in /usr/local/lib/python3.7/dist-packages (from rich>=11.1->flax>=0.5.3->tensorflowjs) (0.9.1)\n",
            "Requirement already satisfied: keras<2.9,>=2.8.0rc0 in /usr/local/lib/python3.7/dist-packages (from tensorflow<3,>=2.1.0->tensorflowjs) (2.8.0)\n",
            "Requirement already satisfied: setuptools in /usr/local/lib/python3.7/dist-packages (from tensorflow<3,>=2.1.0->tensorflowjs) (57.4.0)\n",
            "Requirement already satisfied: h5py>=2.9.0 in /usr/local/lib/python3.7/dist-packages (from tensorflow<3,>=2.1.0->tensorflowjs) (3.1.0)\n",
            "Requirement already satisfied: gast>=0.2.1 in /usr/local/lib/python3.7/dist-packages (from tensorflow<3,>=2.1.0->tensorflowjs) (0.5.3)\n",
            "Requirement already satisfied: wrapt>=1.11.0 in /usr/local/lib/python3.7/dist-packages (from tensorflow<3,>=2.1.0->tensorflowjs) (1.14.1)\n",
            "Requirement already satisfied: tensorflow-estimator<2.9,>=2.8 in /usr/local/lib/python3.7/dist-packages (from tensorflow<3,>=2.1.0->tensorflowjs) (2.8.0)\n",
            "Requirement already satisfied: termcolor>=1.1.0 in /usr/local/lib/python3.7/dist-packages (from tensorflow<3,>=2.1.0->tensorflowjs) (2.0.1)\n",
            "Requirement already satisfied: astunparse>=1.6.0 in /usr/local/lib/python3.7/dist-packages (from tensorflow<3,>=2.1.0->tensorflowjs) (1.6.3)\n",
            "Requirement already satisfied: grpcio<2.0,>=1.24.3 in /usr/local/lib/python3.7/dist-packages (from tensorflow<3,>=2.1.0->tensorflowjs) (1.49.1)\n",
            "Requirement already satisfied: tensorflow-io-gcs-filesystem>=0.23.1 in /usr/local/lib/python3.7/dist-packages (from tensorflow<3,>=2.1.0->tensorflowjs) (0.27.0)\n",
            "Requirement already satisfied: flatbuffers>=1.12 in /usr/local/lib/python3.7/dist-packages (from tensorflow<3,>=2.1.0->tensorflowjs) (22.9.24)\n",
            "Requirement already satisfied: keras-preprocessing>=1.1.1 in /usr/local/lib/python3.7/dist-packages (from tensorflow<3,>=2.1.0->tensorflowjs) (1.1.2)\n",
            "Requirement already satisfied: google-pasta>=0.1.1 in /usr/local/lib/python3.7/dist-packages (from tensorflow<3,>=2.1.0->tensorflowjs) (0.2.0)\n",
            "Requirement already satisfied: tensorboard<2.9,>=2.8 in /usr/local/lib/python3.7/dist-packages (from tensorflow<3,>=2.1.0->tensorflowjs) (2.8.0)\n",
            "Requirement already satisfied: libclang>=9.0.1 in /usr/local/lib/python3.7/dist-packages (from tensorflow<3,>=2.1.0->tensorflowjs) (14.0.6)\n",
            "Requirement already satisfied: wheel<1.0,>=0.23.0 in /usr/local/lib/python3.7/dist-packages (from astunparse>=1.6.0->tensorflow<3,>=2.1.0->tensorflowjs) (0.37.1)\n",
            "Requirement already satisfied: cached-property in /usr/local/lib/python3.7/dist-packages (from h5py>=2.9.0->tensorflow<3,>=2.1.0->tensorflowjs) (1.5.2)\n",
            "Requirement already satisfied: google-auth-oauthlib<0.5,>=0.4.1 in /usr/local/lib/python3.7/dist-packages (from tensorboard<2.9,>=2.8->tensorflow<3,>=2.1.0->tensorflowjs) (0.4.6)\n",
            "Requirement already satisfied: markdown>=2.6.8 in /usr/local/lib/python3.7/dist-packages (from tensorboard<2.9,>=2.8->tensorflow<3,>=2.1.0->tensorflowjs) (3.4.1)\n",
            "Requirement already satisfied: werkzeug>=0.11.15 in /usr/local/lib/python3.7/dist-packages (from tensorboard<2.9,>=2.8->tensorflow<3,>=2.1.0->tensorflowjs) (1.0.1)\n",
            "Requirement already satisfied: tensorboard-plugin-wit>=1.6.0 in /usr/local/lib/python3.7/dist-packages (from tensorboard<2.9,>=2.8->tensorflow<3,>=2.1.0->tensorflowjs) (1.8.1)\n",
            "Requirement already satisfied: google-auth<3,>=1.6.3 in /usr/local/lib/python3.7/dist-packages (from tensorboard<2.9,>=2.8->tensorflow<3,>=2.1.0->tensorflowjs) (1.35.0)\n",
            "Requirement already satisfied: requests<3,>=2.21.0 in /usr/local/lib/python3.7/dist-packages (from tensorboard<2.9,>=2.8->tensorflow<3,>=2.1.0->tensorflowjs) (2.23.0)\n",
            "Requirement already satisfied: tensorboard-data-server<0.7.0,>=0.6.0 in /usr/local/lib/python3.7/dist-packages (from tensorboard<2.9,>=2.8->tensorflow<3,>=2.1.0->tensorflowjs) (0.6.1)\n",
            "Requirement already satisfied: cachetools<5.0,>=2.0.0 in /usr/local/lib/python3.7/dist-packages (from google-auth<3,>=1.6.3->tensorboard<2.9,>=2.8->tensorflow<3,>=2.1.0->tensorflowjs) (4.2.4)\n",
            "Requirement already satisfied: pyasn1-modules>=0.2.1 in /usr/local/lib/python3.7/dist-packages (from google-auth<3,>=1.6.3->tensorboard<2.9,>=2.8->tensorflow<3,>=2.1.0->tensorflowjs) (0.2.8)\n",
            "Requirement already satisfied: rsa<5,>=3.1.4 in /usr/local/lib/python3.7/dist-packages (from google-auth<3,>=1.6.3->tensorboard<2.9,>=2.8->tensorflow<3,>=2.1.0->tensorflowjs) (4.9)\n",
            "Requirement already satisfied: requests-oauthlib>=0.7.0 in /usr/local/lib/python3.7/dist-packages (from google-auth-oauthlib<0.5,>=0.4.1->tensorboard<2.9,>=2.8->tensorflow<3,>=2.1.0->tensorflowjs) (1.3.1)\n",
            "Requirement already satisfied: importlib-metadata>=4.4 in /usr/local/lib/python3.7/dist-packages (from markdown>=2.6.8->tensorboard<2.9,>=2.8->tensorflow<3,>=2.1.0->tensorflowjs) (5.0.0)\n",
            "Requirement already satisfied: pyasn1<0.5.0,>=0.4.6 in /usr/local/lib/python3.7/dist-packages (from pyasn1-modules>=0.2.1->google-auth<3,>=1.6.3->tensorboard<2.9,>=2.8->tensorflow<3,>=2.1.0->tensorflowjs) (0.4.8)\n",
            "Requirement already satisfied: certifi>=2017.4.17 in /usr/local/lib/python3.7/dist-packages (from requests<3,>=2.21.0->tensorboard<2.9,>=2.8->tensorflow<3,>=2.1.0->tensorflowjs) (2022.9.24)\n",
            "Requirement already satisfied: urllib3!=1.25.0,!=1.25.1,<1.26,>=1.21.1 in /usr/local/lib/python3.7/dist-packages (from requests<3,>=2.21.0->tensorboard<2.9,>=2.8->tensorflow<3,>=2.1.0->tensorflowjs) (1.24.3)\n",
            "Requirement already satisfied: idna<3,>=2.5 in /usr/local/lib/python3.7/dist-packages (from requests<3,>=2.21.0->tensorboard<2.9,>=2.8->tensorflow<3,>=2.1.0->tensorflowjs) (2.10)\n",
            "Requirement already satisfied: chardet<4,>=3.0.2 in /usr/local/lib/python3.7/dist-packages (from requests<3,>=2.21.0->tensorboard<2.9,>=2.8->tensorflow<3,>=2.1.0->tensorflowjs) (3.0.4)\n",
            "Requirement already satisfied: oauthlib>=3.0.0 in /usr/local/lib/python3.7/dist-packages (from requests-oauthlib>=0.7.0->google-auth-oauthlib<0.5,>=0.4.1->tensorboard<2.9,>=2.8->tensorflow<3,>=2.1.0->tensorflowjs) (3.2.1)\n",
            "Requirement already satisfied: kiwisolver>=1.0.1 in /usr/local/lib/python3.7/dist-packages (from matplotlib->flax>=0.5.3->tensorflowjs) (1.4.4)\n",
            "Requirement already satisfied: python-dateutil>=2.1 in /usr/local/lib/python3.7/dist-packages (from matplotlib->flax>=0.5.3->tensorflowjs) (2.8.2)\n",
            "Requirement already satisfied: cycler>=0.10 in /usr/local/lib/python3.7/dist-packages (from matplotlib->flax>=0.5.3->tensorflowjs) (0.11.0)\n",
            "Requirement already satisfied: chex>=0.0.4 in /usr/local/lib/python3.7/dist-packages (from optax->flax>=0.5.3->tensorflowjs) (0.1.5)\n",
            "Requirement already satisfied: jaxlib>=0.1.37 in /usr/local/lib/python3.7/dist-packages (from optax->flax>=0.5.3->tensorflowjs) (0.3.20+cuda11.cudnn805)\n",
            "Requirement already satisfied: dm-tree>=0.1.5 in /usr/local/lib/python3.7/dist-packages (from chex>=0.0.4->optax->flax>=0.5.3->tensorflowjs) (0.1.7)\n",
            "Requirement already satisfied: toolz>=0.9.0 in /usr/local/lib/python3.7/dist-packages (from chex>=0.0.4->optax->flax>=0.5.3->tensorflowjs) (0.12.0)\n"
          ]
        }
      ]
    },
    {
      "cell_type": "code",
      "source": [
        "pip install python-mnist"
      ],
      "metadata": {
        "id": "V9YeuEysQWBZ",
        "outputId": "0b4b2e22-70a3-4156-9959-ab219413a4c4",
        "colab": {
          "base_uri": "https://localhost:8080/"
        }
      },
      "execution_count": 2,
      "outputs": [
        {
          "output_type": "stream",
          "name": "stdout",
          "text": [
            "Looking in indexes: https://pypi.org/simple, https://us-python.pkg.dev/colab-wheels/public/simple/\n",
            "Requirement already satisfied: python-mnist in /usr/local/lib/python3.7/dist-packages (0.7)\n"
          ]
        }
      ]
    },
    {
      "cell_type": "code",
      "source": [
        "pip install emnist"
      ],
      "metadata": {
        "id": "H6nbyWTfQ7q0",
        "outputId": "6b6bfd33-1f63-42f3-8dbd-ddcb56312e02",
        "colab": {
          "base_uri": "https://localhost:8080/"
        }
      },
      "execution_count": 3,
      "outputs": [
        {
          "output_type": "stream",
          "name": "stdout",
          "text": [
            "Looking in indexes: https://pypi.org/simple, https://us-python.pkg.dev/colab-wheels/public/simple/\n",
            "Requirement already satisfied: emnist in /usr/local/lib/python3.7/dist-packages (0.0)\n",
            "Requirement already satisfied: tqdm in /usr/local/lib/python3.7/dist-packages (from emnist) (4.64.1)\n",
            "Requirement already satisfied: numpy in /usr/local/lib/python3.7/dist-packages (from emnist) (1.21.6)\n",
            "Requirement already satisfied: requests in /usr/local/lib/python3.7/dist-packages (from emnist) (2.23.0)\n",
            "Requirement already satisfied: urllib3!=1.25.0,!=1.25.1,<1.26,>=1.21.1 in /usr/local/lib/python3.7/dist-packages (from requests->emnist) (1.24.3)\n",
            "Requirement already satisfied: certifi>=2017.4.17 in /usr/local/lib/python3.7/dist-packages (from requests->emnist) (2022.9.24)\n",
            "Requirement already satisfied: chardet<4,>=3.0.2 in /usr/local/lib/python3.7/dist-packages (from requests->emnist) (3.0.4)\n",
            "Requirement already satisfied: idna<3,>=2.5 in /usr/local/lib/python3.7/dist-packages (from requests->emnist) (2.10)\n"
          ]
        }
      ]
    },
    {
      "cell_type": "code",
      "execution_count": 4,
      "metadata": {
        "id": "KWZPbzgEJ7Hc"
      },
      "outputs": [],
      "source": [
        "#this is the same code we used for a CNN predicting a number based on a handmade drawing of it\n",
        "#for this, i forked another repository: https://github.com/JosePabloGFnl/exportacion-numeros\n",
        "\n",
        "import tensorflow as tf\n",
        "import tensorflow_datasets as tfds\n",
        "from tensorflow.keras.preprocessing.image import ImageDataGenerator\n",
        "from mnist import MNIST\n",
        "from emnist import extract_training_samples\n",
        "from emnist import list_datasets\n",
        "from emnist import extract_test_samples\n",
        "import numpy as np\n",
        "\n",
        "#EMNIST data set entrenamiento\n",
        "datos_entrenamiento, datos_etiquetas = extract_training_samples('byclass')\n",
        "imagenes_de_prueba, etiquetas_de_prueba = extract_test_samples('byclass')\n",
        "\n",
        "datos_entrenamiento = tf.keras.utils.normalize(datos_entrenamiento, axis = 1)\n",
        "datos_entrenamiento = np.expand_dims(datos_entrenamiento, axis=3)\n",
        "imagenes_de_prueba = tf.keras.utils.normalize(imagenes_de_prueba, axis = 1)\n",
        "imagenes_de_prueba = np.expand_dims(imagenes_de_prueba, axis=3)\n",
        "\n",
        "#fit al generador usando tensorflow\n",
        "rotation_range_val = 15\n",
        "width_shift_val = 0.10\n",
        "height_shift_val = 0.10\n",
        "gen_entrenamiento = ImageDataGenerator(rotation_range = rotation_range_val,\n",
        "                             width_shift_range = width_shift_val,\n",
        "                             height_shift_range = height_shift_val)\n",
        "gen_entrenamiento.fit(datos_entrenamiento.reshape(datos_entrenamiento.shape[0], 28, 28, 1))\n",
        "\n",
        "#datos, metadatos = tfds.load('emnist', as_supervised=True, with_info=True)\n",
        "\n",
        "#datos_entrenamiento, datos_pruebas = datos['train'], datos['test']\n",
        "\n",
        "#nombres_clases = metadatos.features['label'].names\n",
        "\n",
        "#normalizing function, makes it faster\n",
        "#def normalizar(imagenes, etiquetas):\n",
        "#  imagenes = tf.cast(imagenes, tf.float32)\n",
        "#  imagenes /= 255 #0-255 to 0-1\n",
        "#  return imagenes, etiquetas\n",
        "\n",
        "#datos_entrenamiento = datos_entrenamiento.map(normalizar)\n",
        "#datos_pruebas = datos_pruebas.map(normalizar)\n",
        "\n",
        "#datos_entrenamiento = datos_entrenamiento.cache()\n",
        "#datos_pruebas = datos_pruebas.cache()\n",
        "\n",
        "#clases = ['0', '1', '2', '3', '4', '5', '6', '7', '8', '9', 'A', 'B', 'C', 'D', 'E', 'F', 'G', 'H', 'I', 'J', 'K', 'L', 'M', 'N', 'O', 'P', 'Q', 'R', 'S', 'T', 'U', 'V', 'W', 'X', 'Y', 'Z', 'a', 'b', 'c', 'd', 'e', 'f', 'g', 'h', 'i', 'j', 'k', 'l', 'm', 'n', 'o', 'p', 'q', 'r', 's', 't', 'u', 'v', 'w', 'x', 'y', 'z']"
      ]
    },
    {
      "cell_type": "code",
      "source": [
        "#import matplotlib.pyplot as plt\n",
        "#plt.figure(figsize=(10,10))\n",
        "\n",
        "#for i, (imagen, etiqueta) in enumerate(datos_entrenamiento.take(25)):\n",
        "#  imagen = imagen.numpy().reshape((28,28))\n",
        "#  plt.subplot(5,5, i +1)\n",
        "#  plt.xticks([])\n",
        "#  plt.yticks([])\n",
        "#  plt.grid(False)\n",
        "#  plt.imshow(imagen, cmap=plt.cm.binary)\n",
        "#  plt.xlabel(clases[etiqueta])\n",
        "#plt.show()"
      ],
      "metadata": {
        "id": "D4rGoX6tsX7f"
      },
      "execution_count": 5,
      "outputs": []
    },
    {
      "cell_type": "code",
      "source": [
        "#creating the model\n",
        "model = tf.keras.models.Sequential()\n",
        "model.add(tf.keras.layers.Conv2D(32,\n",
        "                kernel_size=(3, 3),\n",
        "                input_shape=(28, 28, 1),\n",
        "                activation='relu',\n",
        "                padding='same'))\n",
        "model.add(tf.keras.layers.Conv2D(64,\n",
        "                kernel_size=(3, 3),\n",
        "                activation='relu'))\n",
        "model.add(tf.keras.layers.MaxPooling2D(pool_size=(2, 2)))\n",
        "model.add(tf.keras.layers.Conv2D(128, \n",
        "                                 (3,3), \n",
        "                                 activation='relu'))\n",
        "model.add(tf.keras.layers.MaxPooling2D(pool_size=(2, 2)))\n",
        "model.add(tf.keras.layers.Dropout(0.2))\n",
        "model.add(tf.keras.layers.Flatten())\n",
        "model.add(tf.keras.layers.Dense(256, activation='relu'))\n",
        "model.add(tf.keras.layers.Dense(128, activation='relu'))\n",
        "model.add(tf.keras.layers.Dense(62, activation=tf.nn.softmax))\n",
        "\n",
        "#Compiling the model\n",
        "model.compile(loss='sparse_categorical_crossentropy',optimizer='adam', metrics=['accuracy'])\n",
        "\n",
        "#num_ej_entrenamiento = metadatos.splits[\"train\"].num_examples\n",
        "#num_ej_pruebas = metadatos.splits[\"test\"].num_examples\n",
        "\n",
        "TAMANO_LOTE = 1024\n",
        "\n",
        "#shuffling\n",
        "#datos_entrenamiento = datos_entrenamiento.repeat().shuffle(num_ej_entrenamiento).batch(TAMANO_LOTE)\n",
        "#datos_pruebas = datos_pruebas.batch(TAMANO_LOTE)\n",
        "\n",
        "import math\n",
        "\n",
        "datos_val = ImageDataGenerator()\n",
        "datos_val.fit(imagenes_de_prueba.reshape(imagenes_de_prueba.shape[0], 28, 28, 1))\n",
        "\n",
        "#training\n",
        "historial = model.fit(gen_entrenamiento.flow(datos_entrenamiento, datos_etiquetas, batch_size=TAMANO_LOTE), epochs=20, validation_data = datos_val.flow(imagenes_de_prueba, etiquetas_de_prueba, batch_size=32))"
      ],
      "metadata": {
        "id": "eIPv6ncbsb8U",
        "outputId": "c85a9707-4961-4785-8a92-a4188386995a",
        "colab": {
          "base_uri": "https://localhost:8080/"
        }
      },
      "execution_count": 6,
      "outputs": [
        {
          "output_type": "stream",
          "name": "stdout",
          "text": [
            "Epoch 1/20\n",
            "682/682 [==============================] - 171s 234ms/step - loss: 0.9097 - accuracy: 0.7294 - val_loss: 0.4579 - val_accuracy: 0.8386\n",
            "Epoch 2/20\n",
            "682/682 [==============================] - 161s 236ms/step - loss: 0.5057 - accuracy: 0.8240 - val_loss: 0.4082 - val_accuracy: 0.8519\n",
            "Epoch 3/20\n",
            "682/682 [==============================] - 159s 233ms/step - loss: 0.4564 - accuracy: 0.8373 - val_loss: 0.3820 - val_accuracy: 0.8598\n",
            "Epoch 4/20\n",
            "682/682 [==============================] - 159s 234ms/step - loss: 0.4326 - accuracy: 0.8442 - val_loss: 0.3773 - val_accuracy: 0.8576\n",
            "Epoch 5/20\n",
            "682/682 [==============================] - 160s 234ms/step - loss: 0.4174 - accuracy: 0.8482 - val_loss: 0.3676 - val_accuracy: 0.8647\n",
            "Epoch 6/20\n",
            "682/682 [==============================] - 158s 232ms/step - loss: 0.4060 - accuracy: 0.8518 - val_loss: 0.3671 - val_accuracy: 0.8629\n",
            "Epoch 7/20\n",
            "682/682 [==============================] - 160s 234ms/step - loss: 0.3973 - accuracy: 0.8544 - val_loss: 0.3563 - val_accuracy: 0.8670\n",
            "Epoch 8/20\n",
            "682/682 [==============================] - 157s 230ms/step - loss: 0.3904 - accuracy: 0.8561 - val_loss: 0.3510 - val_accuracy: 0.8678\n",
            "Epoch 9/20\n",
            "682/682 [==============================] - 158s 232ms/step - loss: 0.3849 - accuracy: 0.8578 - val_loss: 0.3502 - val_accuracy: 0.8685\n",
            "Epoch 10/20\n",
            "682/682 [==============================] - 157s 231ms/step - loss: 0.3790 - accuracy: 0.8596 - val_loss: 0.3485 - val_accuracy: 0.8686\n",
            "Epoch 11/20\n",
            "682/682 [==============================] - 157s 230ms/step - loss: 0.3752 - accuracy: 0.8605 - val_loss: 0.3518 - val_accuracy: 0.8669\n",
            "Epoch 12/20\n",
            "682/682 [==============================] - 156s 229ms/step - loss: 0.3709 - accuracy: 0.8619 - val_loss: 0.3517 - val_accuracy: 0.8683\n",
            "Epoch 13/20\n",
            "682/682 [==============================] - 157s 230ms/step - loss: 0.3668 - accuracy: 0.8628 - val_loss: 0.3552 - val_accuracy: 0.8646\n",
            "Epoch 14/20\n",
            "682/682 [==============================] - 157s 230ms/step - loss: 0.3643 - accuracy: 0.8638 - val_loss: 0.3472 - val_accuracy: 0.8690\n",
            "Epoch 15/20\n",
            "682/682 [==============================] - 158s 232ms/step - loss: 0.3617 - accuracy: 0.8645 - val_loss: 0.3538 - val_accuracy: 0.8652\n",
            "Epoch 16/20\n",
            "682/682 [==============================] - 157s 231ms/step - loss: 0.3581 - accuracy: 0.8658 - val_loss: 0.3408 - val_accuracy: 0.8707\n",
            "Epoch 17/20\n",
            "682/682 [==============================] - 158s 232ms/step - loss: 0.3565 - accuracy: 0.8661 - val_loss: 0.3413 - val_accuracy: 0.8714\n",
            "Epoch 18/20\n",
            "682/682 [==============================] - 156s 228ms/step - loss: 0.3543 - accuracy: 0.8666 - val_loss: 0.3407 - val_accuracy: 0.8716\n",
            "Epoch 19/20\n",
            "682/682 [==============================] - 158s 232ms/step - loss: 0.3523 - accuracy: 0.8674 - val_loss: 0.3449 - val_accuracy: 0.8704\n",
            "Epoch 20/20\n",
            "682/682 [==============================] - 157s 230ms/step - loss: 0.3503 - accuracy: 0.8677 - val_loss: 0.3420 - val_accuracy: 0.8723\n"
          ]
        }
      ]
    },
    {
      "cell_type": "code",
      "source": [
        "#exporting the model to h5\n",
        "model.save('numeros.h5')"
      ],
      "metadata": {
        "id": "3Z0rdONvKujW"
      },
      "execution_count": 7,
      "outputs": []
    },
    {
      "cell_type": "code",
      "source": [
        "!ls"
      ],
      "metadata": {
        "id": "xxUHdsr0LdmO",
        "outputId": "fbcdeda7-9aa1-4a0b-a12e-ced5151a124a",
        "colab": {
          "base_uri": "https://localhost:8080/"
        }
      },
      "execution_count": 8,
      "outputs": [
        {
          "output_type": "stream",
          "name": "stdout",
          "text": [
            "numeros.h5  sample_data\n"
          ]
        }
      ]
    },
    {
      "cell_type": "code",
      "source": [
        "!pip install tensorflow js"
      ],
      "metadata": {
        "id": "kbcDx3ovLggo",
        "outputId": "b39884f9-8b55-453c-8213-3a172de270d1",
        "colab": {
          "base_uri": "https://localhost:8080/"
        }
      },
      "execution_count": 9,
      "outputs": [
        {
          "output_type": "stream",
          "name": "stdout",
          "text": [
            "Looking in indexes: https://pypi.org/simple, https://us-python.pkg.dev/colab-wheels/public/simple/\n",
            "Requirement already satisfied: tensorflow in /usr/local/lib/python3.7/dist-packages (2.8.2+zzzcolab20220929150707)\n",
            "Collecting js\n",
            "  Downloading js-1.0.tar.gz (2.5 kB)\n",
            "Requirement already satisfied: grpcio<2.0,>=1.24.3 in /usr/local/lib/python3.7/dist-packages (from tensorflow) (1.49.1)\n",
            "Requirement already satisfied: typing-extensions>=3.6.6 in /usr/local/lib/python3.7/dist-packages (from tensorflow) (4.1.1)\n",
            "Requirement already satisfied: libclang>=9.0.1 in /usr/local/lib/python3.7/dist-packages (from tensorflow) (14.0.6)\n",
            "Requirement already satisfied: flatbuffers>=1.12 in /usr/local/lib/python3.7/dist-packages (from tensorflow) (22.9.24)\n",
            "Requirement already satisfied: h5py>=2.9.0 in /usr/local/lib/python3.7/dist-packages (from tensorflow) (3.1.0)\n",
            "Requirement already satisfied: keras<2.9,>=2.8.0rc0 in /usr/local/lib/python3.7/dist-packages (from tensorflow) (2.8.0)\n",
            "Requirement already satisfied: tensorboard<2.9,>=2.8 in /usr/local/lib/python3.7/dist-packages (from tensorflow) (2.8.0)\n",
            "Requirement already satisfied: wrapt>=1.11.0 in /usr/local/lib/python3.7/dist-packages (from tensorflow) (1.14.1)\n",
            "Requirement already satisfied: numpy>=1.20 in /usr/local/lib/python3.7/dist-packages (from tensorflow) (1.21.6)\n",
            "Requirement already satisfied: gast>=0.2.1 in /usr/local/lib/python3.7/dist-packages (from tensorflow) (0.5.3)\n",
            "Requirement already satisfied: tensorflow-io-gcs-filesystem>=0.23.1 in /usr/local/lib/python3.7/dist-packages (from tensorflow) (0.27.0)\n",
            "Requirement already satisfied: six>=1.12.0 in /usr/local/lib/python3.7/dist-packages (from tensorflow) (1.15.0)\n",
            "Requirement already satisfied: protobuf<3.20,>=3.9.2 in /usr/local/lib/python3.7/dist-packages (from tensorflow) (3.17.3)\n",
            "Requirement already satisfied: google-pasta>=0.1.1 in /usr/local/lib/python3.7/dist-packages (from tensorflow) (0.2.0)\n",
            "Requirement already satisfied: keras-preprocessing>=1.1.1 in /usr/local/lib/python3.7/dist-packages (from tensorflow) (1.1.2)\n",
            "Requirement already satisfied: setuptools in /usr/local/lib/python3.7/dist-packages (from tensorflow) (57.4.0)\n",
            "Requirement already satisfied: opt-einsum>=2.3.2 in /usr/local/lib/python3.7/dist-packages (from tensorflow) (3.3.0)\n",
            "Requirement already satisfied: astunparse>=1.6.0 in /usr/local/lib/python3.7/dist-packages (from tensorflow) (1.6.3)\n",
            "Requirement already satisfied: absl-py>=0.4.0 in /usr/local/lib/python3.7/dist-packages (from tensorflow) (1.2.0)\n",
            "Requirement already satisfied: termcolor>=1.1.0 in /usr/local/lib/python3.7/dist-packages (from tensorflow) (2.0.1)\n",
            "Requirement already satisfied: tensorflow-estimator<2.9,>=2.8 in /usr/local/lib/python3.7/dist-packages (from tensorflow) (2.8.0)\n",
            "Requirement already satisfied: wheel<1.0,>=0.23.0 in /usr/local/lib/python3.7/dist-packages (from astunparse>=1.6.0->tensorflow) (0.37.1)\n",
            "Requirement already satisfied: cached-property in /usr/local/lib/python3.7/dist-packages (from h5py>=2.9.0->tensorflow) (1.5.2)\n",
            "Requirement already satisfied: werkzeug>=0.11.15 in /usr/local/lib/python3.7/dist-packages (from tensorboard<2.9,>=2.8->tensorflow) (1.0.1)\n",
            "Requirement already satisfied: tensorboard-data-server<0.7.0,>=0.6.0 in /usr/local/lib/python3.7/dist-packages (from tensorboard<2.9,>=2.8->tensorflow) (0.6.1)\n",
            "Requirement already satisfied: google-auth<3,>=1.6.3 in /usr/local/lib/python3.7/dist-packages (from tensorboard<2.9,>=2.8->tensorflow) (1.35.0)\n",
            "Requirement already satisfied: markdown>=2.6.8 in /usr/local/lib/python3.7/dist-packages (from tensorboard<2.9,>=2.8->tensorflow) (3.4.1)\n",
            "Requirement already satisfied: requests<3,>=2.21.0 in /usr/local/lib/python3.7/dist-packages (from tensorboard<2.9,>=2.8->tensorflow) (2.23.0)\n",
            "Requirement already satisfied: google-auth-oauthlib<0.5,>=0.4.1 in /usr/local/lib/python3.7/dist-packages (from tensorboard<2.9,>=2.8->tensorflow) (0.4.6)\n",
            "Requirement already satisfied: tensorboard-plugin-wit>=1.6.0 in /usr/local/lib/python3.7/dist-packages (from tensorboard<2.9,>=2.8->tensorflow) (1.8.1)\n",
            "Requirement already satisfied: pyasn1-modules>=0.2.1 in /usr/local/lib/python3.7/dist-packages (from google-auth<3,>=1.6.3->tensorboard<2.9,>=2.8->tensorflow) (0.2.8)\n",
            "Requirement already satisfied: rsa<5,>=3.1.4 in /usr/local/lib/python3.7/dist-packages (from google-auth<3,>=1.6.3->tensorboard<2.9,>=2.8->tensorflow) (4.9)\n",
            "Requirement already satisfied: cachetools<5.0,>=2.0.0 in /usr/local/lib/python3.7/dist-packages (from google-auth<3,>=1.6.3->tensorboard<2.9,>=2.8->tensorflow) (4.2.4)\n",
            "Requirement already satisfied: requests-oauthlib>=0.7.0 in /usr/local/lib/python3.7/dist-packages (from google-auth-oauthlib<0.5,>=0.4.1->tensorboard<2.9,>=2.8->tensorflow) (1.3.1)\n",
            "Requirement already satisfied: importlib-metadata>=4.4 in /usr/local/lib/python3.7/dist-packages (from markdown>=2.6.8->tensorboard<2.9,>=2.8->tensorflow) (5.0.0)\n",
            "Requirement already satisfied: zipp>=0.5 in /usr/local/lib/python3.7/dist-packages (from importlib-metadata>=4.4->markdown>=2.6.8->tensorboard<2.9,>=2.8->tensorflow) (3.8.1)\n",
            "Requirement already satisfied: pyasn1<0.5.0,>=0.4.6 in /usr/local/lib/python3.7/dist-packages (from pyasn1-modules>=0.2.1->google-auth<3,>=1.6.3->tensorboard<2.9,>=2.8->tensorflow) (0.4.8)\n",
            "Requirement already satisfied: idna<3,>=2.5 in /usr/local/lib/python3.7/dist-packages (from requests<3,>=2.21.0->tensorboard<2.9,>=2.8->tensorflow) (2.10)\n",
            "Requirement already satisfied: urllib3!=1.25.0,!=1.25.1,<1.26,>=1.21.1 in /usr/local/lib/python3.7/dist-packages (from requests<3,>=2.21.0->tensorboard<2.9,>=2.8->tensorflow) (1.24.3)\n",
            "Requirement already satisfied: certifi>=2017.4.17 in /usr/local/lib/python3.7/dist-packages (from requests<3,>=2.21.0->tensorboard<2.9,>=2.8->tensorflow) (2022.9.24)\n",
            "Requirement already satisfied: chardet<4,>=3.0.2 in /usr/local/lib/python3.7/dist-packages (from requests<3,>=2.21.0->tensorboard<2.9,>=2.8->tensorflow) (3.0.4)\n",
            "Requirement already satisfied: oauthlib>=3.0.0 in /usr/local/lib/python3.7/dist-packages (from requests-oauthlib>=0.7.0->google-auth-oauthlib<0.5,>=0.4.1->tensorboard<2.9,>=2.8->tensorflow) (3.2.1)\n",
            "Collecting fanstatic\n",
            "  Downloading fanstatic-1.2-py2.py3-none-any.whl (31 kB)\n",
            "Collecting WebOb>=1.2\n",
            "  Downloading WebOb-1.8.7-py2.py3-none-any.whl (114 kB)\n",
            "\u001b[K     |████████████████████████████████| 114 kB 52.3 MB/s \n",
            "\u001b[?25hCollecting shutilwhich\n",
            "  Downloading shutilwhich-1.1.0.tar.gz (2.3 kB)\n",
            "Building wheels for collected packages: js, shutilwhich\n",
            "  Building wheel for js (setup.py) ... \u001b[?25l\u001b[?25hdone\n",
            "  Created wheel for js: filename=js-1.0-py3-none-any.whl size=2907 sha256=cf6c31f42d14ea353033741780324bf506b015e6f69ebfe250f4e6463c135d71\n",
            "  Stored in directory: /root/.cache/pip/wheels/bf/92/56/6597c8f32980ee64af7e864796e8d7423eb67eafff5415a4ae\n",
            "  Building wheel for shutilwhich (setup.py) ... \u001b[?25l\u001b[?25hdone\n",
            "  Created wheel for shutilwhich: filename=shutilwhich-1.1.0-py3-none-any.whl size=2781 sha256=932d70f789706f2536b62f1a9f5731003d0692b2cb540d4e13f90a51574960e1\n",
            "  Stored in directory: /root/.cache/pip/wheels/4c/c0/ce/5a47f35186acbe73e38811df30daaf798c81a7599bb2d5995a\n",
            "Successfully built js shutilwhich\n",
            "Installing collected packages: WebOb, shutilwhich, fanstatic, js\n",
            "Successfully installed WebOb-1.8.7 fanstatic-1.2 js-1.0 shutilwhich-1.1.0\n"
          ]
        }
      ]
    },
    {
      "cell_type": "code",
      "source": [
        "#folder with output files\n",
        "!mkdir carpeta_salida"
      ],
      "metadata": {
        "id": "-ZPiyJN_LieX"
      },
      "execution_count": 10,
      "outputs": []
    },
    {
      "cell_type": "code",
      "source": [
        "#export to output folder\n",
        "!tensorflowjs_converter --input_format keras numeros.h5 carpeta_salida"
      ],
      "metadata": {
        "id": "GL3MHeQhLqMe"
      },
      "execution_count": 14,
      "outputs": []
    },
    {
      "cell_type": "code",
      "source": [
        "!ls carpeta_salida"
      ],
      "metadata": {
        "id": "zydgHJV2L0J2",
        "outputId": "cf231f3e-d083-4e38-a730-e687ba6fdeb8",
        "colab": {
          "base_uri": "https://localhost:8080/"
        }
      },
      "execution_count": 12,
      "outputs": [
        {
          "output_type": "stream",
          "name": "stdout",
          "text": [
            "group1-shard1of1.bin  model.json\n"
          ]
        }
      ]
    },
    {
      "cell_type": "code",
      "source": [
        "#note, if tensorflow does not work in the page, do the following:\n",
        "#open cmd > cd [folder] > python -m http.server 8000\n",
        "#in the address, localhost:8000/index.html"
      ],
      "metadata": {
        "id": "giWtVmKKMwZP"
      },
      "execution_count": 13,
      "outputs": []
    }
  ]
}